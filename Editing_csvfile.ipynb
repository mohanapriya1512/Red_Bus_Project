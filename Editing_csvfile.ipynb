{
 "cells": [
  {
   "cell_type": "code",
   "execution_count": 3,
   "id": "7e582ea6-67cf-4aa5-bbd0-cff6b7f22021",
   "metadata": {},
   "outputs": [],
   "source": [
    "#state1\n",
    "import pandas as pd\n",
    "\n",
    "# Read the CSV file into a DataFrame\n",
    "\n",
    "df = pd.read_csv('bus_details_jk1_csv.csv')\n",
    "\n",
    "# Remove rows with any null values\n",
    "df_jk1_new = df.dropna()\n",
    "\n",
    "# Save the cleaned DataFrame back to a CSV file\n",
    "df_jk1_new.to_csv('bus_details_jk2_csv.csv')\n",
    "\n",
    "#print(\"Rows with null values removed and saved to bus_details_jk2_csv.csv\")\n"
   ]
  },
  {
   "cell_type": "code",
   "execution_count": 23,
   "id": "cf6c395f-2a13-4123-b810-4cca9ab77f23",
   "metadata": {},
   "outputs": [],
   "source": [
    "#state2\n",
    "import pandas as pd\n",
    "\n",
    "# Read the CSV file into a DataFrame\n",
    "\n",
    "df = pd.read_csv('bus_details_kerala_csv.csv')\n",
    "\n",
    "# Remove rows with any null values\n",
    "df_kerala_new = df.dropna()\n",
    "\n",
    "# Save the cleaned DataFrame back to a CSV file\n",
    "df_kerala_new.to_csv('bus_details_kerala1_csv.csv')\n",
    "\n",
    "#print(\"Rows with null values removed and saved to bus_details_jk2_csv.csv\")\n"
   ]
  },
  {
   "cell_type": "code",
   "execution_count": 25,
   "id": "643b7049-2684-49c2-822f-248a31b84a3b",
   "metadata": {},
   "outputs": [],
   "source": [
    "#state3\n",
    "import pandas as pd\n",
    "\n",
    "# Read the CSV file into a DataFrame\n",
    "\n",
    "df = pd.read_csv('bus_details_ktcl_csv.csv')\n",
    "\n",
    "# Remove rows with any null values\n",
    "df_ktcl_new = df.dropna()\n",
    "\n",
    "# Save the cleaned DataFrame back to a CSV file\n",
    "df_ktcl_new.to_csv('bus_details_ktcl1_csv.csv')\n",
    "\n",
    "#print(\"Rows with null values removed and saved to bus_details_jk2_csv.csv\")\n"
   ]
  },
  {
   "cell_type": "code",
   "execution_count": 27,
   "id": "9f5897bc-93d9-49dc-a80b-eaf3233f0971",
   "metadata": {},
   "outputs": [],
   "source": [
    "#state4\n",
    "import pandas as pd\n",
    "\n",
    "# Read the CSV file into a DataFrame\n",
    "\n",
    "df = pd.read_csv('bus_details_pepsu_csv.csv')\n",
    "\n",
    "# Remove rows with any null values\n",
    "df_pepsu_new = df.dropna()\n",
    "\n",
    "# Save the cleaned DataFrame back to a CSV file\n",
    "df_pepsu_new.to_csv('bus_details_pepsu1_csv.csv')\n",
    "\n",
    "#print(\"Rows with null values removed and saved to bus_details_jk2_csv.csv\")\n"
   ]
  },
  {
   "cell_type": "code",
   "execution_count": 29,
   "id": "d489e3ad-e233-46c6-8d73-154b5ff251e7",
   "metadata": {},
   "outputs": [],
   "source": [
    "#state5\n",
    "import pandas as pd\n",
    "\n",
    "# Read the CSV file into a DataFrame\n",
    "\n",
    "df = pd.read_csv('bus_details_rsrtc_csv.csv')\n",
    "\n",
    "# Remove rows with any null values\n",
    "df_rsrtc_new = df.dropna()\n",
    "\n",
    "# Save the cleaned DataFrame back to a CSV file\n",
    "df_rsrtc_new.to_csv('bus_details_rsrtc1_csv.csv')\n",
    "\n",
    "#print(\"Rows with null values removed and saved to bus_details_jk2_csv.csv\")"
   ]
  },
  {
   "cell_type": "code",
   "execution_count": 31,
   "id": "f1362108-770b-4b1b-8fa8-6fbac09fec4c",
   "metadata": {},
   "outputs": [],
   "source": [
    "#state6\n",
    "import pandas as pd\n",
    "\n",
    "# Read the CSV file into a DataFrame\n",
    "\n",
    "df = pd.read_csv('bus_details_ts_csv.csv')\n",
    "\n",
    "# Remove rows with any null values\n",
    "df_ts_new = df.dropna()\n",
    "\n",
    "# Save the cleaned DataFrame back to a CSV file\n",
    "df_ts_new.to_csv('bus_details_ts1_csv.csv')\n",
    "\n",
    "#print(\"Rows with null values removed and saved to bus_details_jk2_csv.csv\")"
   ]
  },
  {
   "cell_type": "code",
   "execution_count": 33,
   "id": "a9d8df06-8853-4f32-99aa-4dc4e8fa1284",
   "metadata": {},
   "outputs": [],
   "source": [
    "#state7\n",
    "import pandas as pd\n",
    "\n",
    "# Read the CSV file into a DataFrame\n",
    "\n",
    "df = pd.read_csv('bus_details_hrtc_csv.csv')\n",
    "\n",
    "# Remove rows with any null values\n",
    "df_hrtc_new = df.dropna()\n",
    "\n",
    "# Save the cleaned DataFrame back to a CSV file\n",
    "df_hrtc_new.to_csv('bus_details_hrtc1_csv.csv')\n",
    "\n",
    "#print(\"Rows with null values removed and saved to bus_details_jk2_csv.csv\")"
   ]
  },
  {
   "cell_type": "code",
   "execution_count": 35,
   "id": "bde35230-bd7e-4778-824a-184c66512f36",
   "metadata": {},
   "outputs": [],
   "source": [
    "#state8\n",
    "import pandas as pd\n",
    "\n",
    "# Read the CSV file into a DataFrame\n",
    "\n",
    "df = pd.read_csv('bus_details_bihar_csv.csv')\n",
    "\n",
    "# Remove rows with any null values\n",
    "df_bihar_new = df.dropna()\n",
    "\n",
    "# Save the cleaned DataFrame back to a CSV file\n",
    "df_bihar_new.to_csv('bus_details_bihar1_csv.csv')\n",
    "\n",
    "#print(\"Rows with null values removed and saved to bus_details_jk2_csv.csv\")"
   ]
  },
  {
   "cell_type": "code",
   "execution_count": 37,
   "id": "7b390b28-868f-42ef-8ffe-20ab3e403d46",
   "metadata": {},
   "outputs": [],
   "source": [
    "#state9\n",
    "import pandas as pd\n",
    "\n",
    "# Read the CSV file into a DataFrame\n",
    "\n",
    "df = pd.read_csv('bus_details_astc_csv.csv')\n",
    "\n",
    "# Remove rows with any null values\n",
    "df_astc_new = df.dropna()\n",
    "\n",
    "# Save the cleaned DataFrame back to a CSV file\n",
    "df_astc_new.to_csv('bus_details_astc1_csv.csv')\n",
    "\n",
    "#print(\"Rows with null values removed and saved to bus_details_jk2_csv.csv\")"
   ]
  },
  {
   "cell_type": "code",
   "execution_count": 39,
   "id": "ab1288c8-6631-4cc1-835f-20e94a1fe542",
   "metadata": {},
   "outputs": [],
   "source": [
    "#state10\n",
    "import pandas as pd\n",
    "\n",
    "# Read the CSV file into a DataFrame\n",
    "\n",
    "df = pd.read_csv('bus_details_bengal_csv.csv')\n",
    "\n",
    "# Remove rows with any null values\n",
    "df_bengal_new = df.dropna()\n",
    "\n",
    "# Save the cleaned DataFrame back to a CSV file\n",
    "df_bengal_new.to_csv('bus_details_bengal1_csv.csv')\n",
    "\n",
    "#print(\"Rows with null values removed and saved to bus_details_jk2_csv.csv\")"
   ]
  },
  {
   "cell_type": "code",
   "execution_count": null,
   "id": "c130dc28-7c5d-4e20-bbc2-f6413575066b",
   "metadata": {},
   "outputs": [],
   "source": []
  }
 ],
 "metadata": {
  "kernelspec": {
   "display_name": "Python 3 (ipykernel)",
   "language": "python",
   "name": "python3"
  },
  "language_info": {
   "codemirror_mode": {
    "name": "ipython",
    "version": 3
   },
   "file_extension": ".py",
   "mimetype": "text/x-python",
   "name": "python",
   "nbconvert_exporter": "python",
   "pygments_lexer": "ipython3",
   "version": "3.11.7"
  }
 },
 "nbformat": 4,
 "nbformat_minor": 5
}
